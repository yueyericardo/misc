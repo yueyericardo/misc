{
 "cells": [
  {
   "cell_type": "code",
   "execution_count": 2,
   "metadata": {},
   "outputs": [],
   "source": [
    "# script for https://github.com/pytorch/functorch/issues/801\n",
    "\n",
    "import time\n",
    "from functorch import vmap, jacrev, jacfwd, vjp\n",
    "import torch\n",
    "import torch.nn as nn\n",
    "\n",
    "_ = torch.manual_seed(0)\n",
    "device = 'cuda' if torch.cuda.is_available() else 'cpu'\n",
    "D1 = 2  # x, y\n",
    "D2 = 3  # u, v, p\n",
    "B = 100\n",
    "\n",
    "model = nn.Sequential(\n",
    "    nn.Linear(D1, 512), nn.Tanh(),\n",
    "    nn.Linear(512, D2),\n",
    ").to(device)\n",
    "\n",
    "\n",
    "def predict(x):\n",
    "    return model(x)"
   ]
  },
  {
   "cell_type": "code",
   "execution_count": 3,
   "metadata": {},
   "outputs": [
    {
     "name": "stdout",
     "output_type": "stream",
     "text": [
      "torch.Size([3, 2])\n"
     ]
    }
   ],
   "source": [
    "# Documentation example\n",
    "# works when batch size is 1\n",
    "x = torch.randn(D1).to(device)\n",
    "x_ = x.clone().requires_grad_()\n",
    "y = predict(x_)\n",
    "I_N = torch.eye(D2).to(device)\n",
    "\n",
    "def get_vjp(v):\n",
    "    return torch.autograd.grad(y, x_, v)\n",
    "\n",
    "jacobian, = vmap(get_vjp)(I_N)\n",
    "print(jacobian.shape)  # torch.Size([3, 2])"
   ]
  },
  {
   "cell_type": "code",
   "execution_count": 4,
   "metadata": {},
   "outputs": [],
   "source": [
    "# Not work for batched input\n",
    "x = torch.randn(B, D1).to(device)\n",
    "x_ = x.clone().requires_grad_()\n",
    "y = predict(x_)\n",
    "I_N = torch.eye(D2).to(device)\n",
    "\n",
    "def get_vjp(y, x, v):\n",
    "    print(x.requires_grad)  # print False\n",
    "    print(y.requires_grad)  # print False\n",
    "    return torch.autograd.grad(y, x, v)\n",
    "\n",
    "# jacobian = vmap(vmap(get_vjp, in_dims=(None, None, 0)), in_dims=(0, 0, None))(y, x_, I_N)\n",
    "# # Got error element 0 of tensors does not require grad and does not have a grad_fn\n"
   ]
  },
  {
   "cell_type": "code",
   "execution_count": 5,
   "metadata": {},
   "outputs": [
    {
     "data": {
      "text/plain": [
       "(3, 6)"
      ]
     },
     "execution_count": 5,
     "metadata": {},
     "output_type": "execute_result"
    }
   ],
   "source": [
    "3, 4\n",
    "4, 6\n",
    "\n",
    "3, 6"
   ]
  },
  {
   "cell_type": "code",
   "execution_count": 6,
   "metadata": {},
   "outputs": [
    {
     "name": "stdout",
     "output_type": "stream",
     "text": [
      "torch.Size([100, 2, 2])\n"
     ]
    }
   ],
   "source": [
    "x = torch.randn(B, D1).to(device)\n",
    "I_N = torch.eye(D2).to(device)\n",
    "\n",
    "def get_vjp(x, v):\n",
    "    (_, vjpfunc) = vjp(predict, x)\n",
    "    return vjpfunc(v)[0]\n",
    "\n",
    "jacobian = vmap(vmap(get_vjp, in_dims=(None, 0)), in_dims=(0, None))(x, I_N[[0, 2]])\n",
    "print(jacobian.shape)  # [100, 3, 2]"
   ]
  },
  {
   "cell_type": "markdown",
   "metadata": {},
   "source": [
    "jacobian"
   ]
  },
  {
   "cell_type": "code",
   "execution_count": 35,
   "metadata": {},
   "outputs": [
    {
     "name": "stdout",
     "output_type": "stream",
     "text": [
      "torch.Size([2])\n",
      "torch.Size([3])\n",
      "torch.Size([100, 2, 2])\n",
      "torch.Size([100, 2, 3])\n"
     ]
    }
   ],
   "source": [
    "x = torch.randn(B, D1).to(device)\n",
    "I_N = torch.eye(D2).to(device)\n",
    "\n",
    "def get_vjp(x, v):\n",
    "    print(x.shape)\n",
    "    (pred, vjpfunc) = vjp(predict, x)\n",
    "    print(pred.shape)\n",
    "    return vjpfunc(v)[0], pred\n",
    "\n",
    "jacobian, pred = vmap(vmap(get_vjp, in_dims=(None, 0)), in_dims=(0, None))(x, I_N[[0, 2]])\n",
    "print(jacobian.shape)\n",
    "print(pred.shape)"
   ]
  },
  {
   "cell_type": "code",
   "execution_count": 46,
   "metadata": {},
   "outputs": [
    {
     "name": "stdout",
     "output_type": "stream",
     "text": [
      "torch.Size([2])\n",
      "torch.Size([3])\n",
      "(1,)\n",
      "torch.Size([100, 2, 2])\n",
      "torch.Size([100, 2, 3])\n",
      "(3, 0, 1)\n"
     ]
    }
   ],
   "source": [
    "x = torch.randn(B, D1).to(device)\n",
    "I_N = torch.eye(D2).to(device)\n",
    "\n",
    "def get_vjp(x, v):\n",
    "    print(x.shape)\n",
    "    (pred, vjpfunc) = vjp(predict, x)\n",
    "    print(pred.shape)\n",
    "    print(pred.stride())\n",
    "    return vjpfunc(v)[0], pred\n",
    "\n",
    "jacobian, pred = vmap(vmap(get_vjp, in_dims=(None, 0)), in_dims=(0, None))(x, I_N[[0, 2]])\n",
    "print(jacobian.shape)\n",
    "print(pred.shape)\n",
    "print(pred.stride())"
   ]
  },
  {
   "cell_type": "markdown",
   "metadata": {},
   "source": [
    "hessian"
   ]
  },
  {
   "cell_type": "code",
   "execution_count": 36,
   "metadata": {},
   "outputs": [],
   "source": [
    "# x = torch.randn(B, D1).to(device)\n",
    "# I_N = torch.eye(D2).to(device)\n",
    "\n",
    "# def get_vjp(x, v):\n",
    "#     print(x.shape)\n",
    "#     (pred, vjpfunc) = vjp(predict, x)\n",
    "#     print(pred.shape)\n",
    "#     jacobian, hessianfunc = vjp(vjpfunc, x)\n",
    "#     print(jacobian.shape)\n",
    "#     hess = hessianfunc(v)[0]\n",
    "\n",
    "#     return hess, jacobian, pred\n",
    "\n",
    "# hess, jacobian, pred = vmap(vmap(get_vjp, in_dims=(None, 0)), in_dims=(0, None))(x, I_N)\n",
    "# print(jacobian.shape)\n",
    "# print(pred.shape)"
   ]
  },
  {
   "cell_type": "markdown",
   "metadata": {},
   "source": [
    "get pred, jacobian and hessian together"
   ]
  },
  {
   "cell_type": "code",
   "execution_count": 50,
   "metadata": {},
   "outputs": [
    {
     "name": "stdout",
     "output_type": "stream",
     "text": [
      "torch.Size([2])\n",
      "torch.Size([3])\n",
      "torch.Size([2])\n",
      "torch.Size([100, 3, 2, 2])\n",
      "(12, 4, 2, 1)\n",
      "torch.Size([100, 3, 2, 2])\n",
      "(6, 2, 0, 1)\n",
      "torch.Size([100, 3, 2, 3])\n",
      "(3, 0, 0, 1)\n"
     ]
    }
   ],
   "source": [
    "x = torch.randn(B, D1).to(device)\n",
    "I_N1 = torch.eye(D2).to(device)\n",
    "I_N2 = torch.eye(D1).to(device)\n",
    "\n",
    "def get_vjp(x, v1, v2):\n",
    "    print(x.shape)\n",
    "    def jacofunc(x):\n",
    "        (pred, vjpfunc) = vjp(predict, x)\n",
    "        return vjpfunc(v1)[0], pred\n",
    "    (jacobian, hessianfunc, pred) = vjp(jacofunc, x, has_aux=True)\n",
    "    print(pred.shape)\n",
    "    print(jacobian.shape)\n",
    "\n",
    "    hess = hessianfunc(v2)[0]\n",
    "\n",
    "    return hess, jacobian, pred\n",
    "\n",
    "hess, jacobian, pred= vmap(vmap(vmap(get_vjp, in_dims=(None, None, 0)), in_dims=(None, 0, None)), in_dims=(0, None, None))(x, I_N1, I_N2)\n",
    "print(hess.shape)\n",
    "print(hess.stride())\n",
    "print(jacobian.shape)\n",
    "print(jacobian.stride())\n",
    "print(pred.shape)\n",
    "print(pred.stride())"
   ]
  },
  {
   "cell_type": "code",
   "execution_count": 51,
   "metadata": {},
   "outputs": [
    {
     "name": "stdout",
     "output_type": "stream",
     "text": [
      "torch.Size([2])\n",
      "torch.Size([3])\n",
      "torch.Size([2])\n",
      "torch.Size([100, 3, 2, 2])\n",
      "(12, 4, 2, 1)\n",
      "torch.Size([100, 3, 2, 2])\n",
      "(6, 2, 0, 1)\n",
      "torch.Size([100, 3, 2, 3])\n",
      "(3, 0, 0, 1)\n"
     ]
    }
   ],
   "source": [
    "x = torch.randn(B, D1).to(device)\n",
    "I_N1 = torch.eye(D2).to(device)\n",
    "I_N2 = torch.eye(D1).to(device)\n",
    "\n",
    "def get_vjp(x, v1, v2):\n",
    "    print(x.shape)\n",
    "    def jacofunc(x):\n",
    "        (pred, vjpfunc) = vjp(predict, x)\n",
    "        return vjpfunc(v1)[0], pred\n",
    "    def selected_jac(x):\n",
    "        jac, pred = jacofunc(x)\n",
    "        return jac[:2,:], pred\n",
    "    (jacobian, hessianfunc, pred) = vjp(selected_jac, x, has_aux=True)\n",
    "    print(pred.shape)\n",
    "    print(jacobian.shape)\n",
    "\n",
    "    hess = hessianfunc(v2)[0]\n",
    "\n",
    "    return hess, jacobian, pred\n",
    "\n",
    "hess, jacobian, pred= vmap(vmap(vmap(get_vjp, in_dims=(None, None, 0)), in_dims=(None, 0, None)), in_dims=(0, None, None))(x, I_N1, I_N2)\n",
    "print(hess.shape)\n",
    "print(hess.stride())\n",
    "print(jacobian.shape)\n",
    "print(jacobian.stride())\n",
    "print(pred.shape)\n",
    "print(pred.stride())"
   ]
  },
  {
   "cell_type": "code",
   "execution_count": null,
   "metadata": {},
   "outputs": [],
   "source": []
  },
  {
   "cell_type": "code",
   "execution_count": null,
   "metadata": {},
   "outputs": [],
   "source": []
  },
  {
   "cell_type": "code",
   "execution_count": null,
   "metadata": {},
   "outputs": [],
   "source": []
  }
 ],
 "metadata": {
  "interpreter": {
   "hash": "edf338763f2b2ccb12e037322e6ac5824ab6c822d92df9623a0e5043f21ce287"
  },
  "kernelspec": {
   "display_name": "Python 3.8.13 ('functorch1')",
   "language": "python",
   "name": "python3"
  },
  "language_info": {
   "codemirror_mode": {
    "name": "ipython",
    "version": 3
   },
   "file_extension": ".py",
   "mimetype": "text/x-python",
   "name": "python",
   "nbconvert_exporter": "python",
   "pygments_lexer": "ipython3",
   "version": "3.8.13"
  },
  "orig_nbformat": 4
 },
 "nbformat": 4,
 "nbformat_minor": 2
}
